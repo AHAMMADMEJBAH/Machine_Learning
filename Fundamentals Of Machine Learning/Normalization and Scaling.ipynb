{
 "cells": [
  {
   "cell_type": "code",
   "execution_count": 2,
   "metadata": {},
   "outputs": [],
   "source": [
    "from sklearn.datasets import load_iris\n",
    "import numpy as np\n",
    "import pandas as pd\n",
    "from sklearn.preprocessing import MinMaxScaler, StandardScaler"
   ]
  },
  {
   "cell_type": "code",
   "execution_count": 3,
   "metadata": {},
   "outputs": [],
   "source": [
    "datasets = load_iris()"
   ]
  },
  {
   "cell_type": "code",
   "execution_count": 4,
   "metadata": {},
   "outputs": [],
   "source": [
    "X = datasets.data[:, [2, 3]]\n",
    "y = datasets.target"
   ]
  },
  {
   "cell_type": "code",
   "execution_count": 7,
   "metadata": {},
   "outputs": [],
   "source": [
    "std_scale = StandardScaler().fit(X)\n",
    "X_std = std_scale.transform(X)"
   ]
  },
  {
   "cell_type": "code",
   "execution_count": 9,
   "metadata": {},
   "outputs": [],
   "source": [
    "minmax_scale = MinMaxScaler().fit(X)\n",
    "X_minmax= minmax_scale.transform(X)"
   ]
  },
  {
   "cell_type": "code",
   "execution_count": 18,
   "metadata": {},
   "outputs": [
    {
     "name": "stdout",
     "output_type": "stream",
     "text": [
      "Mean Before Standerdization : Petal Length = 3.8, Petal Width = 1.2\n",
      "SD before Standerdization : Petal Length =1.8, Petal width = 0.8\n"
     ]
    }
   ],
   "source": [
    "print(\"Mean Before Standerdization : Petal Length = {:.1f}, Petal Width = {:.1f}\".format(X[:,0].mean(), X[:, 1].mean()))\n",
    "print(\"SD before Standerdization : Petal Length ={:.1f}, Petal width = {:.1f}\".format(X[:, 0].std(), X[:, 1].std()))"
   ]
  },
  {
   "cell_type": "code",
   "execution_count": 20,
   "metadata": {},
   "outputs": [
    {
     "name": "stdout",
     "output_type": "stream",
     "text": [
      "Mean After Standerdization : Petal Length  = -0.0, Petal width = -0.0\n",
      "SD after Standardization : Petal Length = 1.0, Petal width = 1.0\n"
     ]
    }
   ],
   "source": [
    "print(\"Mean After Standerdization : Petal Length  = {:.1f}, Petal width = {:.1f}\".format(X_std[:, 0].mean(), X_std[:, 1].mean()))\n",
    "print(\"SD after Standardization : Petal Length = {:.1f}, Petal width = {:.1f}\".format(X_std[:, 0].std(), X_std[:, 1].std()))"
   ]
  },
  {
   "cell_type": "code",
   "execution_count": 22,
   "metadata": {},
   "outputs": [
    {
     "name": "stdout",
     "output_type": "stream",
     "text": [
      "Minimum Value Before Min Scaler Petal length = 1.0, Petal Width = 0.1\n",
      "Maximum value before Min scaler Petal Length = 6.9, Petal width = 2.5\n"
     ]
    }
   ],
   "source": [
    "print(\"Minimum Value Before Min Scaler Petal length = {:.1f}, Petal Width = {:.1f}\".format(X[:, 0].min(), X[:, 1].min()))\n",
    "print(\"Maximum value before Min scaler Petal Length = {:.1f}, Petal width = {:.1f}\".format(X[:, 0].max(), X[:, 1].max()))"
   ]
  },
  {
   "cell_type": "code",
   "execution_count": 24,
   "metadata": {},
   "outputs": [
    {
     "name": "stdout",
     "output_type": "stream",
     "text": [
      "Minimum value after min-max scalling Petal Length = 0.0, Petal width = 0e+00\n",
      "Maximum Value after min-max scalling Petal Length = 1.0, Petal width = 1e+00\n"
     ]
    }
   ],
   "source": [
    "print(\"Minimum value after min-max scalling Petal Length = {:.1f}, Petal width = {:.1}\".format(X_minmax[:, 0].min(), X_minmax[:, 1].min()))\n",
    "print(\"Maximum Value after min-max scalling Petal Length = {:.1f}, Petal width = {:.1}\".format(X_minmax[:, 0].max(), X_minmax[:, 1].max()))"
   ]
  },
  {
   "cell_type": "code",
   "execution_count": null,
   "metadata": {},
   "outputs": [],
   "source": []
  }
 ],
 "metadata": {
  "kernelspec": {
   "display_name": "Python 3",
   "language": "python",
   "name": "python3"
  },
  "language_info": {
   "codemirror_mode": {
    "name": "ipython",
    "version": 3
   },
   "file_extension": ".py",
   "mimetype": "text/x-python",
   "name": "python",
   "nbconvert_exporter": "python",
   "pygments_lexer": "ipython3",
   "version": "3.7.6"
  }
 },
 "nbformat": 4,
 "nbformat_minor": 4
}
