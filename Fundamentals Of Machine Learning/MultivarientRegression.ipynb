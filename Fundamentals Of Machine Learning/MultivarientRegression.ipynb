{
 "cells": [
  {
   "cell_type": "code",
   "execution_count": 96,
   "metadata": {},
   "outputs": [],
   "source": [
    "import pandas as pd\n",
    "import numpy as np\n",
    "import matplotlib.pyplot as plt\n",
    "import seaborn as sns\n",
    "from sklearn import preprocessing\n",
    "from sklearn import metrics\n",
    "import statsmodels.api as sm\n",
    "from sklearn.model_selection import train_test_split\n",
    "from statsmodels.stats.outliers_influence import variance_inflation_factor, OLSInfluence\n",
    "import pyforest\n",
    "%matplotlib inline"
   ]
  },
  {
   "cell_type": "code",
   "execution_count": 97,
   "metadata": {},
   "outputs": [],
   "source": [
    "datasets = pd.read_csv('Housing_price.csv')"
   ]
  },
  {
   "cell_type": "code",
   "execution_count": 98,
   "metadata": {},
   "outputs": [
    {
     "data": {
      "text/html": [
       "<div>\n",
       "<style scoped>\n",
       "    .dataframe tbody tr th:only-of-type {\n",
       "        vertical-align: middle;\n",
       "    }\n",
       "\n",
       "    .dataframe tbody tr th {\n",
       "        vertical-align: top;\n",
       "    }\n",
       "\n",
       "    .dataframe thead th {\n",
       "        text-align: right;\n",
       "    }\n",
       "</style>\n",
       "<table border=\"1\" class=\"dataframe\">\n",
       "  <thead>\n",
       "    <tr style=\"text-align: right;\">\n",
       "      <th></th>\n",
       "      <th>price</th>\n",
       "      <th>lotsize</th>\n",
       "      <th>bedrooms</th>\n",
       "      <th>bathrms</th>\n",
       "      <th>stories</th>\n",
       "      <th>driveway</th>\n",
       "      <th>recroom</th>\n",
       "      <th>fullbase</th>\n",
       "      <th>gashw</th>\n",
       "      <th>airco</th>\n",
       "      <th>garagepl</th>\n",
       "      <th>prefarea</th>\n",
       "    </tr>\n",
       "  </thead>\n",
       "  <tbody>\n",
       "    <tr>\n",
       "      <th>0</th>\n",
       "      <td>42000.0</td>\n",
       "      <td>5850</td>\n",
       "      <td>3</td>\n",
       "      <td>1</td>\n",
       "      <td>two</td>\n",
       "      <td>yes</td>\n",
       "      <td>no</td>\n",
       "      <td>yes</td>\n",
       "      <td>no</td>\n",
       "      <td>no</td>\n",
       "      <td>1</td>\n",
       "      <td>no</td>\n",
       "    </tr>\n",
       "    <tr>\n",
       "      <th>1</th>\n",
       "      <td>38500.0</td>\n",
       "      <td>4000</td>\n",
       "      <td>2</td>\n",
       "      <td>1</td>\n",
       "      <td>one</td>\n",
       "      <td>yes</td>\n",
       "      <td>no</td>\n",
       "      <td>no</td>\n",
       "      <td>no</td>\n",
       "      <td>no</td>\n",
       "      <td>0</td>\n",
       "      <td>no</td>\n",
       "    </tr>\n",
       "    <tr>\n",
       "      <th>2</th>\n",
       "      <td>49500.0</td>\n",
       "      <td>3060</td>\n",
       "      <td>3</td>\n",
       "      <td>1</td>\n",
       "      <td>one</td>\n",
       "      <td>yes</td>\n",
       "      <td>no</td>\n",
       "      <td>no</td>\n",
       "      <td>no</td>\n",
       "      <td>no</td>\n",
       "      <td>0</td>\n",
       "      <td>no</td>\n",
       "    </tr>\n",
       "    <tr>\n",
       "      <th>3</th>\n",
       "      <td>60500.0</td>\n",
       "      <td>6650</td>\n",
       "      <td>3</td>\n",
       "      <td>1</td>\n",
       "      <td>two</td>\n",
       "      <td>yes</td>\n",
       "      <td>yes</td>\n",
       "      <td>no</td>\n",
       "      <td>no</td>\n",
       "      <td>no</td>\n",
       "      <td>0</td>\n",
       "      <td>no</td>\n",
       "    </tr>\n",
       "    <tr>\n",
       "      <th>4</th>\n",
       "      <td>61000.0</td>\n",
       "      <td>6360</td>\n",
       "      <td>2</td>\n",
       "      <td>1</td>\n",
       "      <td>one</td>\n",
       "      <td>yes</td>\n",
       "      <td>no</td>\n",
       "      <td>no</td>\n",
       "      <td>no</td>\n",
       "      <td>no</td>\n",
       "      <td>0</td>\n",
       "      <td>no</td>\n",
       "    </tr>\n",
       "  </tbody>\n",
       "</table>\n",
       "</div>"
      ],
      "text/plain": [
       "     price  lotsize  bedrooms  bathrms stories driveway recroom fullbase  \\\n",
       "0  42000.0     5850         3        1     two      yes      no      yes   \n",
       "1  38500.0     4000         2        1     one      yes      no       no   \n",
       "2  49500.0     3060         3        1     one      yes      no       no   \n",
       "3  60500.0     6650         3        1     two      yes     yes       no   \n",
       "4  61000.0     6360         2        1     one      yes      no       no   \n",
       "\n",
       "  gashw airco  garagepl prefarea  \n",
       "0    no    no         1       no  \n",
       "1    no    no         0       no  \n",
       "2    no    no         0       no  \n",
       "3    no    no         0       no  \n",
       "4    no    no         0       no  "
      ]
     },
     "execution_count": 98,
     "metadata": {},
     "output_type": "execute_result"
    }
   ],
   "source": [
    "datasets.head()"
   ]
  },
  {
   "cell_type": "code",
   "execution_count": 99,
   "metadata": {},
   "outputs": [
    {
     "data": {
      "text/html": [
       "<div>\n",
       "<style scoped>\n",
       "    .dataframe tbody tr th:only-of-type {\n",
       "        vertical-align: middle;\n",
       "    }\n",
       "\n",
       "    .dataframe tbody tr th {\n",
       "        vertical-align: top;\n",
       "    }\n",
       "\n",
       "    .dataframe thead th {\n",
       "        text-align: right;\n",
       "    }\n",
       "</style>\n",
       "<table border=\"1\" class=\"dataframe\">\n",
       "  <thead>\n",
       "    <tr style=\"text-align: right;\">\n",
       "      <th></th>\n",
       "      <th>price</th>\n",
       "      <th>lotsize</th>\n",
       "      <th>bedrooms</th>\n",
       "      <th>bathrms</th>\n",
       "      <th>stories</th>\n",
       "      <th>driveway</th>\n",
       "      <th>recroom</th>\n",
       "      <th>fullbase</th>\n",
       "      <th>gashw</th>\n",
       "      <th>airco</th>\n",
       "      <th>garagepl</th>\n",
       "      <th>prefarea</th>\n",
       "    </tr>\n",
       "  </thead>\n",
       "  <tbody>\n",
       "    <tr>\n",
       "      <th>541</th>\n",
       "      <td>91500.0</td>\n",
       "      <td>4800</td>\n",
       "      <td>3</td>\n",
       "      <td>2</td>\n",
       "      <td>four</td>\n",
       "      <td>yes</td>\n",
       "      <td>yes</td>\n",
       "      <td>no</td>\n",
       "      <td>no</td>\n",
       "      <td>yes</td>\n",
       "      <td>0</td>\n",
       "      <td>no</td>\n",
       "    </tr>\n",
       "    <tr>\n",
       "      <th>542</th>\n",
       "      <td>94000.0</td>\n",
       "      <td>6000</td>\n",
       "      <td>3</td>\n",
       "      <td>2</td>\n",
       "      <td>four</td>\n",
       "      <td>yes</td>\n",
       "      <td>no</td>\n",
       "      <td>no</td>\n",
       "      <td>no</td>\n",
       "      <td>yes</td>\n",
       "      <td>0</td>\n",
       "      <td>no</td>\n",
       "    </tr>\n",
       "    <tr>\n",
       "      <th>543</th>\n",
       "      <td>103000.0</td>\n",
       "      <td>6000</td>\n",
       "      <td>3</td>\n",
       "      <td>2</td>\n",
       "      <td>four</td>\n",
       "      <td>yes</td>\n",
       "      <td>yes</td>\n",
       "      <td>no</td>\n",
       "      <td>no</td>\n",
       "      <td>yes</td>\n",
       "      <td>1</td>\n",
       "      <td>no</td>\n",
       "    </tr>\n",
       "    <tr>\n",
       "      <th>544</th>\n",
       "      <td>105000.0</td>\n",
       "      <td>6000</td>\n",
       "      <td>3</td>\n",
       "      <td>2</td>\n",
       "      <td>two</td>\n",
       "      <td>yes</td>\n",
       "      <td>yes</td>\n",
       "      <td>no</td>\n",
       "      <td>no</td>\n",
       "      <td>yes</td>\n",
       "      <td>1</td>\n",
       "      <td>no</td>\n",
       "    </tr>\n",
       "    <tr>\n",
       "      <th>545</th>\n",
       "      <td>105000.0</td>\n",
       "      <td>6000</td>\n",
       "      <td>3</td>\n",
       "      <td>1</td>\n",
       "      <td>two</td>\n",
       "      <td>yes</td>\n",
       "      <td>no</td>\n",
       "      <td>no</td>\n",
       "      <td>no</td>\n",
       "      <td>yes</td>\n",
       "      <td>1</td>\n",
       "      <td>no</td>\n",
       "    </tr>\n",
       "  </tbody>\n",
       "</table>\n",
       "</div>"
      ],
      "text/plain": [
       "        price  lotsize  bedrooms  bathrms stories driveway recroom fullbase  \\\n",
       "541   91500.0     4800         3        2    four      yes     yes       no   \n",
       "542   94000.0     6000         3        2    four      yes      no       no   \n",
       "543  103000.0     6000         3        2    four      yes     yes       no   \n",
       "544  105000.0     6000         3        2     two      yes     yes       no   \n",
       "545  105000.0     6000         3        1     two      yes      no       no   \n",
       "\n",
       "    gashw airco  garagepl prefarea  \n",
       "541    no   yes         0       no  \n",
       "542    no   yes         0       no  \n",
       "543    no   yes         1       no  \n",
       "544    no   yes         1       no  \n",
       "545    no   yes         1       no  "
      ]
     },
     "execution_count": 99,
     "metadata": {},
     "output_type": "execute_result"
    }
   ],
   "source": [
    "datasets.tail()"
   ]
  },
  {
   "cell_type": "code",
   "execution_count": 129,
   "metadata": {},
   "outputs": [],
   "source": [
    "columns = ['driveway', 'recroom', 'fullbase', 'gashw', 'airco', 'prefarea']\n",
    "for i in range(0, len(columns)):\n",
    "    for j in range(0, len(datasets[columns[i]])):\n",
    "        if datasets[columns[i]].iloc[j] == 'yes':\n",
    "            datasets[columns[i]].iloc[j] = 1\n",
    "        elif datasets[columns[i]].iloc[j] == 'no':\n",
    "            datasets[columns[i]].iloc[j] = 0"
   ]
  },
  {
   "cell_type": "code",
   "execution_count": 101,
   "metadata": {},
   "outputs": [],
   "source": [
    "for i in range(0, len(datasets['stories'])):\n",
    "    if datasets['stories'].iloc[i] == 'two':\n",
    "        datasets['stories'].iloc[i] = int(2)\n",
    "    elif datasets['stories'].iloc[i] == 'one':\n",
    "        datasets['stories'].iloc[i] = int(1)\n",
    "    elif datasets['stories'].iloc[i] == 'three':\n",
    "        datasets['stories'].iloc[i] = int(3)\n",
    "    elif datasets['stories'].iloc[i] == 'four':\n",
    "        datasets['stories'].iloc[i] = int(4)"
   ]
  },
  {
   "cell_type": "code",
   "execution_count": 102,
   "metadata": {},
   "outputs": [],
   "source": [
    "\n",
    "datasets['driveway'] = datasets['driveway'].astype(int)\n",
    "datasets['recroom'] = datasets['recroom'].astype(int)\n",
    "datasets['fullbase'] = datasets['fullbase'].astype(int)\n",
    "datasets['gashw'] = datasets['gashw'].astype(int)\n",
    "datasets['airco'] = datasets['airco'].astype(int)\n",
    "datasets['prefarea'] = datasets['prefarea'].astype(int)\n",
    "datasets['stories'] = datasets['stories'].astype(int)"
   ]
  },
  {
   "cell_type": "code",
   "execution_count": 103,
   "metadata": {},
   "outputs": [],
   "source": [
    "columns = ['driveway', 'recroom', 'fullbase', 'gashw', 'airco', 'prefarea']\n",
    "for i in range(0, len(columns)):\n",
    "    for j in range(0, len(datasets[columns[i]])):\n",
    "        if datasets[columns[i]].iloc[j] == '1':\n",
    "            datasets[columns[i]].iloc[j] = int(1)\n",
    "        elif datasets[columns[i]].iloc[j] == 'no':\n",
    "            datasets[columns[i]].iloc[j] = int(0)"
   ]
  },
  {
   "cell_type": "code",
   "execution_count": null,
   "metadata": {},
   "outputs": [],
   "source": []
  },
  {
   "cell_type": "code",
   "execution_count": 104,
   "metadata": {},
   "outputs": [
    {
     "data": {
      "text/plain": [
       "price       float64\n",
       "lotsize       int64\n",
       "bedrooms      int64\n",
       "bathrms       int64\n",
       "stories       int64\n",
       "driveway      int64\n",
       "recroom       int64\n",
       "fullbase      int64\n",
       "gashw         int64\n",
       "airco         int64\n",
       "garagepl      int64\n",
       "prefarea      int64\n",
       "dtype: object"
      ]
     },
     "execution_count": 104,
     "metadata": {},
     "output_type": "execute_result"
    }
   ],
   "source": [
    "datasets.dtypes"
   ]
  },
  {
   "cell_type": "code",
   "execution_count": 105,
   "metadata": {},
   "outputs": [],
   "source": [
    "# for i in range(0, len(datasets['stories'])):\n",
    "#     if datasets['stories'].iloc[i] == 'two':\n",
    "#         datasets['stories'].iloc[i] = np.int64(2)\n",
    "#     elif datasets['stories'].iloc[i] == 'one':\n",
    "#         datasets['stories'].iloc[i] = np.int64(1)\n",
    "#     elif datasets['stories'].iloc[i] == 'three':\n",
    "#         datasets['stories'].iloc[i] = np.int64(3)\n",
    "#     elif datasets['stories'].iloc[i] == 'four':\n",
    "#         datasets['stories'].iloc[i] = np.int64(4)"
   ]
  },
  {
   "cell_type": "code",
   "execution_count": 106,
   "metadata": {},
   "outputs": [],
   "source": [
    "# Create dummy variable \n",
    "datasets_stories = pd.get_dummies(datasets['stories'], prefix='stories', drop_first=False)\n",
    "\n",
    "# Concat the dummy column with the actual table\n",
    "datasets = pd.concat([datasets, datasets_stories], axis = 1)\n",
    "del datasets['stories']"
   ]
  },
  {
   "cell_type": "code",
   "execution_count": 107,
   "metadata": {},
   "outputs": [
    {
     "data": {
      "text/plain": [
       "numpy.int64"
      ]
     },
     "execution_count": 107,
     "metadata": {},
     "output_type": "execute_result"
    }
   ],
   "source": [
    "type(np.int64(1))"
   ]
  },
  {
   "cell_type": "code",
   "execution_count": 108,
   "metadata": {},
   "outputs": [
    {
     "data": {
      "text/html": [
       "<div>\n",
       "<style scoped>\n",
       "    .dataframe tbody tr th:only-of-type {\n",
       "        vertical-align: middle;\n",
       "    }\n",
       "\n",
       "    .dataframe tbody tr th {\n",
       "        vertical-align: top;\n",
       "    }\n",
       "\n",
       "    .dataframe thead th {\n",
       "        text-align: right;\n",
       "    }\n",
       "</style>\n",
       "<table border=\"1\" class=\"dataframe\">\n",
       "  <thead>\n",
       "    <tr style=\"text-align: right;\">\n",
       "      <th></th>\n",
       "      <th>price</th>\n",
       "      <th>lotsize</th>\n",
       "      <th>bedrooms</th>\n",
       "      <th>bathrms</th>\n",
       "      <th>driveway</th>\n",
       "      <th>recroom</th>\n",
       "      <th>fullbase</th>\n",
       "      <th>gashw</th>\n",
       "      <th>airco</th>\n",
       "      <th>garagepl</th>\n",
       "      <th>prefarea</th>\n",
       "      <th>stories_1</th>\n",
       "      <th>stories_2</th>\n",
       "      <th>stories_3</th>\n",
       "      <th>stories_4</th>\n",
       "    </tr>\n",
       "  </thead>\n",
       "  <tbody>\n",
       "    <tr>\n",
       "      <th>541</th>\n",
       "      <td>91500.0</td>\n",
       "      <td>4800</td>\n",
       "      <td>3</td>\n",
       "      <td>2</td>\n",
       "      <td>1</td>\n",
       "      <td>1</td>\n",
       "      <td>0</td>\n",
       "      <td>0</td>\n",
       "      <td>1</td>\n",
       "      <td>0</td>\n",
       "      <td>0</td>\n",
       "      <td>0</td>\n",
       "      <td>0</td>\n",
       "      <td>0</td>\n",
       "      <td>1</td>\n",
       "    </tr>\n",
       "    <tr>\n",
       "      <th>542</th>\n",
       "      <td>94000.0</td>\n",
       "      <td>6000</td>\n",
       "      <td>3</td>\n",
       "      <td>2</td>\n",
       "      <td>1</td>\n",
       "      <td>0</td>\n",
       "      <td>0</td>\n",
       "      <td>0</td>\n",
       "      <td>1</td>\n",
       "      <td>0</td>\n",
       "      <td>0</td>\n",
       "      <td>0</td>\n",
       "      <td>0</td>\n",
       "      <td>0</td>\n",
       "      <td>1</td>\n",
       "    </tr>\n",
       "    <tr>\n",
       "      <th>543</th>\n",
       "      <td>103000.0</td>\n",
       "      <td>6000</td>\n",
       "      <td>3</td>\n",
       "      <td>2</td>\n",
       "      <td>1</td>\n",
       "      <td>1</td>\n",
       "      <td>0</td>\n",
       "      <td>0</td>\n",
       "      <td>1</td>\n",
       "      <td>1</td>\n",
       "      <td>0</td>\n",
       "      <td>0</td>\n",
       "      <td>0</td>\n",
       "      <td>0</td>\n",
       "      <td>1</td>\n",
       "    </tr>\n",
       "    <tr>\n",
       "      <th>544</th>\n",
       "      <td>105000.0</td>\n",
       "      <td>6000</td>\n",
       "      <td>3</td>\n",
       "      <td>2</td>\n",
       "      <td>1</td>\n",
       "      <td>1</td>\n",
       "      <td>0</td>\n",
       "      <td>0</td>\n",
       "      <td>1</td>\n",
       "      <td>1</td>\n",
       "      <td>0</td>\n",
       "      <td>0</td>\n",
       "      <td>1</td>\n",
       "      <td>0</td>\n",
       "      <td>0</td>\n",
       "    </tr>\n",
       "    <tr>\n",
       "      <th>545</th>\n",
       "      <td>105000.0</td>\n",
       "      <td>6000</td>\n",
       "      <td>3</td>\n",
       "      <td>1</td>\n",
       "      <td>1</td>\n",
       "      <td>0</td>\n",
       "      <td>0</td>\n",
       "      <td>0</td>\n",
       "      <td>1</td>\n",
       "      <td>1</td>\n",
       "      <td>0</td>\n",
       "      <td>0</td>\n",
       "      <td>1</td>\n",
       "      <td>0</td>\n",
       "      <td>0</td>\n",
       "    </tr>\n",
       "  </tbody>\n",
       "</table>\n",
       "</div>"
      ],
      "text/plain": [
       "        price  lotsize  bedrooms  bathrms  driveway  recroom  fullbase  gashw  \\\n",
       "541   91500.0     4800         3        2         1        1         0      0   \n",
       "542   94000.0     6000         3        2         1        0         0      0   \n",
       "543  103000.0     6000         3        2         1        1         0      0   \n",
       "544  105000.0     6000         3        2         1        1         0      0   \n",
       "545  105000.0     6000         3        1         1        0         0      0   \n",
       "\n",
       "     airco  garagepl  prefarea  stories_1  stories_2  stories_3  stories_4  \n",
       "541      1         0         0          0          0          0          1  \n",
       "542      1         0         0          0          0          0          1  \n",
       "543      1         1         0          0          0          0          1  \n",
       "544      1         1         0          0          1          0          0  \n",
       "545      1         1         0          0          1          0          0  "
      ]
     },
     "execution_count": 108,
     "metadata": {},
     "output_type": "execute_result"
    }
   ],
   "source": [
    "datasets.tail()"
   ]
  },
  {
   "cell_type": "code",
   "execution_count": 109,
   "metadata": {},
   "outputs": [
    {
     "data": {
      "text/html": [
       "<div>\n",
       "<style scoped>\n",
       "    .dataframe tbody tr th:only-of-type {\n",
       "        vertical-align: middle;\n",
       "    }\n",
       "\n",
       "    .dataframe tbody tr th {\n",
       "        vertical-align: top;\n",
       "    }\n",
       "\n",
       "    .dataframe thead th {\n",
       "        text-align: right;\n",
       "    }\n",
       "</style>\n",
       "<table border=\"1\" class=\"dataframe\">\n",
       "  <thead>\n",
       "    <tr style=\"text-align: right;\">\n",
       "      <th></th>\n",
       "      <th>price</th>\n",
       "      <th>lotsize</th>\n",
       "      <th>bedrooms</th>\n",
       "      <th>bathrms</th>\n",
       "      <th>driveway</th>\n",
       "      <th>recroom</th>\n",
       "      <th>fullbase</th>\n",
       "      <th>gashw</th>\n",
       "      <th>airco</th>\n",
       "      <th>garagepl</th>\n",
       "      <th>prefarea</th>\n",
       "      <th>stories_1</th>\n",
       "      <th>stories_2</th>\n",
       "      <th>stories_3</th>\n",
       "      <th>stories_4</th>\n",
       "    </tr>\n",
       "  </thead>\n",
       "  <tbody>\n",
       "    <tr>\n",
       "      <th>count</th>\n",
       "      <td>546.000000</td>\n",
       "      <td>546.000000</td>\n",
       "      <td>546.000000</td>\n",
       "      <td>546.000000</td>\n",
       "      <td>546.000000</td>\n",
       "      <td>546.000000</td>\n",
       "      <td>546.000000</td>\n",
       "      <td>546.000000</td>\n",
       "      <td>546.000000</td>\n",
       "      <td>546.000000</td>\n",
       "      <td>546.000000</td>\n",
       "      <td>546.000000</td>\n",
       "      <td>546.000000</td>\n",
       "      <td>546.000000</td>\n",
       "      <td>546.000000</td>\n",
       "    </tr>\n",
       "    <tr>\n",
       "      <th>mean</th>\n",
       "      <td>68121.597070</td>\n",
       "      <td>5150.265568</td>\n",
       "      <td>2.965201</td>\n",
       "      <td>1.285714</td>\n",
       "      <td>0.858974</td>\n",
       "      <td>0.177656</td>\n",
       "      <td>0.349817</td>\n",
       "      <td>0.045788</td>\n",
       "      <td>0.316850</td>\n",
       "      <td>0.692308</td>\n",
       "      <td>0.234432</td>\n",
       "      <td>0.415751</td>\n",
       "      <td>0.435897</td>\n",
       "      <td>0.073260</td>\n",
       "      <td>0.075092</td>\n",
       "    </tr>\n",
       "    <tr>\n",
       "      <th>std</th>\n",
       "      <td>26702.670926</td>\n",
       "      <td>2168.158725</td>\n",
       "      <td>0.737388</td>\n",
       "      <td>0.502158</td>\n",
       "      <td>0.348367</td>\n",
       "      <td>0.382573</td>\n",
       "      <td>0.477349</td>\n",
       "      <td>0.209216</td>\n",
       "      <td>0.465675</td>\n",
       "      <td>0.861307</td>\n",
       "      <td>0.424032</td>\n",
       "      <td>0.493303</td>\n",
       "      <td>0.496329</td>\n",
       "      <td>0.260802</td>\n",
       "      <td>0.263781</td>\n",
       "    </tr>\n",
       "    <tr>\n",
       "      <th>min</th>\n",
       "      <td>25000.000000</td>\n",
       "      <td>1650.000000</td>\n",
       "      <td>1.000000</td>\n",
       "      <td>1.000000</td>\n",
       "      <td>0.000000</td>\n",
       "      <td>0.000000</td>\n",
       "      <td>0.000000</td>\n",
       "      <td>0.000000</td>\n",
       "      <td>0.000000</td>\n",
       "      <td>0.000000</td>\n",
       "      <td>0.000000</td>\n",
       "      <td>0.000000</td>\n",
       "      <td>0.000000</td>\n",
       "      <td>0.000000</td>\n",
       "      <td>0.000000</td>\n",
       "    </tr>\n",
       "    <tr>\n",
       "      <th>25%</th>\n",
       "      <td>49125.000000</td>\n",
       "      <td>3600.000000</td>\n",
       "      <td>2.000000</td>\n",
       "      <td>1.000000</td>\n",
       "      <td>1.000000</td>\n",
       "      <td>0.000000</td>\n",
       "      <td>0.000000</td>\n",
       "      <td>0.000000</td>\n",
       "      <td>0.000000</td>\n",
       "      <td>0.000000</td>\n",
       "      <td>0.000000</td>\n",
       "      <td>0.000000</td>\n",
       "      <td>0.000000</td>\n",
       "      <td>0.000000</td>\n",
       "      <td>0.000000</td>\n",
       "    </tr>\n",
       "    <tr>\n",
       "      <th>50%</th>\n",
       "      <td>62000.000000</td>\n",
       "      <td>4600.000000</td>\n",
       "      <td>3.000000</td>\n",
       "      <td>1.000000</td>\n",
       "      <td>1.000000</td>\n",
       "      <td>0.000000</td>\n",
       "      <td>0.000000</td>\n",
       "      <td>0.000000</td>\n",
       "      <td>0.000000</td>\n",
       "      <td>0.000000</td>\n",
       "      <td>0.000000</td>\n",
       "      <td>0.000000</td>\n",
       "      <td>0.000000</td>\n",
       "      <td>0.000000</td>\n",
       "      <td>0.000000</td>\n",
       "    </tr>\n",
       "    <tr>\n",
       "      <th>75%</th>\n",
       "      <td>82000.000000</td>\n",
       "      <td>6360.000000</td>\n",
       "      <td>3.000000</td>\n",
       "      <td>2.000000</td>\n",
       "      <td>1.000000</td>\n",
       "      <td>0.000000</td>\n",
       "      <td>1.000000</td>\n",
       "      <td>0.000000</td>\n",
       "      <td>1.000000</td>\n",
       "      <td>1.000000</td>\n",
       "      <td>0.000000</td>\n",
       "      <td>1.000000</td>\n",
       "      <td>1.000000</td>\n",
       "      <td>0.000000</td>\n",
       "      <td>0.000000</td>\n",
       "    </tr>\n",
       "    <tr>\n",
       "      <th>max</th>\n",
       "      <td>190000.000000</td>\n",
       "      <td>16200.000000</td>\n",
       "      <td>6.000000</td>\n",
       "      <td>4.000000</td>\n",
       "      <td>1.000000</td>\n",
       "      <td>1.000000</td>\n",
       "      <td>1.000000</td>\n",
       "      <td>1.000000</td>\n",
       "      <td>1.000000</td>\n",
       "      <td>3.000000</td>\n",
       "      <td>1.000000</td>\n",
       "      <td>1.000000</td>\n",
       "      <td>1.000000</td>\n",
       "      <td>1.000000</td>\n",
       "      <td>1.000000</td>\n",
       "    </tr>\n",
       "  </tbody>\n",
       "</table>\n",
       "</div>"
      ],
      "text/plain": [
       "               price       lotsize    bedrooms     bathrms    driveway  \\\n",
       "count     546.000000    546.000000  546.000000  546.000000  546.000000   \n",
       "mean    68121.597070   5150.265568    2.965201    1.285714    0.858974   \n",
       "std     26702.670926   2168.158725    0.737388    0.502158    0.348367   \n",
       "min     25000.000000   1650.000000    1.000000    1.000000    0.000000   \n",
       "25%     49125.000000   3600.000000    2.000000    1.000000    1.000000   \n",
       "50%     62000.000000   4600.000000    3.000000    1.000000    1.000000   \n",
       "75%     82000.000000   6360.000000    3.000000    2.000000    1.000000   \n",
       "max    190000.000000  16200.000000    6.000000    4.000000    1.000000   \n",
       "\n",
       "          recroom    fullbase       gashw       airco    garagepl    prefarea  \\\n",
       "count  546.000000  546.000000  546.000000  546.000000  546.000000  546.000000   \n",
       "mean     0.177656    0.349817    0.045788    0.316850    0.692308    0.234432   \n",
       "std      0.382573    0.477349    0.209216    0.465675    0.861307    0.424032   \n",
       "min      0.000000    0.000000    0.000000    0.000000    0.000000    0.000000   \n",
       "25%      0.000000    0.000000    0.000000    0.000000    0.000000    0.000000   \n",
       "50%      0.000000    0.000000    0.000000    0.000000    0.000000    0.000000   \n",
       "75%      0.000000    1.000000    0.000000    1.000000    1.000000    0.000000   \n",
       "max      1.000000    1.000000    1.000000    1.000000    3.000000    1.000000   \n",
       "\n",
       "        stories_1   stories_2   stories_3   stories_4  \n",
       "count  546.000000  546.000000  546.000000  546.000000  \n",
       "mean     0.415751    0.435897    0.073260    0.075092  \n",
       "std      0.493303    0.496329    0.260802    0.263781  \n",
       "min      0.000000    0.000000    0.000000    0.000000  \n",
       "25%      0.000000    0.000000    0.000000    0.000000  \n",
       "50%      0.000000    0.000000    0.000000    0.000000  \n",
       "75%      1.000000    1.000000    0.000000    0.000000  \n",
       "max      1.000000    1.000000    1.000000    1.000000  "
      ]
     },
     "execution_count": 109,
     "metadata": {},
     "output_type": "execute_result"
    }
   ],
   "source": [
    "datasets.describe()"
   ]
  },
  {
   "cell_type": "code",
   "execution_count": null,
   "metadata": {},
   "outputs": [],
   "source": []
  },
  {
   "cell_type": "code",
   "execution_count": 110,
   "metadata": {},
   "outputs": [
    {
     "data": {
      "text/plain": [
       "Index(['price', 'lotsize', 'bedrooms', 'bathrms', 'driveway', 'recroom',\n",
       "       'fullbase', 'gashw', 'airco', 'garagepl', 'prefarea', 'stories_1',\n",
       "       'stories_2', 'stories_3', 'stories_4'],\n",
       "      dtype='object')"
      ]
     },
     "execution_count": 110,
     "metadata": {},
     "output_type": "execute_result"
    }
   ],
   "source": [
    "datasets.columns"
   ]
  },
  {
   "cell_type": "code",
   "execution_count": 111,
   "metadata": {},
   "outputs": [
    {
     "data": {
      "text/plain": [
       "RangeIndex(start=0, stop=546, step=1)"
      ]
     },
     "execution_count": 111,
     "metadata": {},
     "output_type": "execute_result"
    }
   ],
   "source": [
    "datasets.index"
   ]
  },
  {
   "cell_type": "code",
   "execution_count": 112,
   "metadata": {},
   "outputs": [],
   "source": [
    "label_binarizer = preprocessing.LabelBinarizer()"
   ]
  },
  {
   "cell_type": "code",
   "execution_count": 113,
   "metadata": {},
   "outputs": [],
   "source": [
    "label_binarizer.driveway = label_binarizer.fit_transform(datasets.driveway)\n",
    "label_binarizer.recroom = label_binarizer.fit_transform(datasets.recroom)\n",
    "label_binarizer.fullbase = label_binarizer.fit_transform(datasets.fullbase)\n",
    "label_binarizer.gashw = label_binarizer.fit_transform(datasets.gashw)\n",
    "label_binarizer.airco = label_binarizer.fit_transform(datasets.airco)\n",
    "label_binarizer.prefarea = label_binarizer.fit_transform(datasets.prefarea)"
   ]
  },
  {
   "cell_type": "code",
   "execution_count": 114,
   "metadata": {},
   "outputs": [
    {
     "data": {
      "text/plain": [
       "price        float64\n",
       "lotsize        int64\n",
       "bedrooms       int64\n",
       "bathrms        int64\n",
       "driveway       int64\n",
       "recroom        int64\n",
       "fullbase       int64\n",
       "gashw          int64\n",
       "airco          int64\n",
       "garagepl       int64\n",
       "prefarea       int64\n",
       "stories_1      uint8\n",
       "stories_2      uint8\n",
       "stories_3      uint8\n",
       "stories_4      uint8\n",
       "dtype: object"
      ]
     },
     "execution_count": 114,
     "metadata": {},
     "output_type": "execute_result"
    }
   ],
   "source": [
    "datasets.dtypes"
   ]
  },
  {
   "cell_type": "code",
   "execution_count": 121,
   "metadata": {},
   "outputs": [],
   "source": [
    "for i in range(0, len(datasets['stories_1'])):\n",
    "    if datasets['stories_1'].iloc[i] == 1:\n",
    "        datasets['stories_1'].iloc[i] = int(1)\n",
    "    elif datasets['stories_1'].iloc[i] == 0:\n",
    "        datasets['stories_1'].iloc[i] = int(0)\n",
    "for i in range(0, len(datasets['stories_2'])):\n",
    "    if datasets['stories_2'].iloc[i] == 1:\n",
    "        datasets['stories_2'].iloc[i] = int(1)\n",
    "    elif datasets['stories_2'].iloc[i] == 0:\n",
    "        datasets['stories_2'].iloc[i] = int(0)\n",
    "for i in range(0, len(datasets['stories_3'])):\n",
    "    if datasets['stories_3'].iloc[i] == 1:\n",
    "        datasets['stories_3'].iloc[i] = int(1)\n",
    "    elif datasets['stories_3'].iloc[i] == 0:\n",
    "        datasets['stories_3'].iloc[i] = int(0)\n",
    "for i in range(0, len(datasets['stories_4'])):\n",
    "    if datasets['stories_4'].iloc[i] == 1:\n",
    "        datasets['stories_4'].iloc[i] = int(1)\n",
    "    elif datasets['stories_4'].iloc[i] == 0:\n",
    "        datasets['stories_4'].iloc[i] = int(0)"
   ]
  },
  {
   "cell_type": "code",
   "execution_count": 122,
   "metadata": {},
   "outputs": [
    {
     "data": {
      "text/plain": [
       "price        float64\n",
       "lotsize        int64\n",
       "bedrooms       int64\n",
       "bathrms        int64\n",
       "driveway       int64\n",
       "recroom        int64\n",
       "fullbase       int64\n",
       "gashw          int64\n",
       "airco          int64\n",
       "garagepl       int64\n",
       "prefarea       int64\n",
       "stories_1      uint8\n",
       "stories_2      uint8\n",
       "stories_3      uint8\n",
       "stories_4      uint8\n",
       "dtype: object"
      ]
     },
     "execution_count": 122,
     "metadata": {},
     "output_type": "execute_result"
    }
   ],
   "source": [
    "datasets.dtypes"
   ]
  },
  {
   "cell_type": "code",
   "execution_count": 115,
   "metadata": {},
   "outputs": [],
   "source": [
    "datasets_corr = datasets.corr()"
   ]
  },
  {
   "cell_type": "code",
   "execution_count": 123,
   "metadata": {},
   "outputs": [
    {
     "data": {
      "text/plain": [
       "<Figure size 1440x720 with 0 Axes>"
      ]
     },
     "metadata": {},
     "output_type": "display_data"
    },
    {
     "data": {
      "image/png": "[encoded data removed]",
      "text/plain": [
       "<Figure size 432x288 with 2 Axes>"
      ]
     },
     "metadata": {
      "needs_background": "light"
     },
     "output_type": "display_data"
    }
   ],
   "source": [
    "plt.figure(figsize=(20, 10))\n",
    "sm.graphics.plot_corr(datasets_corr, xnames = list(datasets_corr))\n",
    "plt.show()"
   ]
  },
  {
   "cell_type": "code",
   "execution_count": 124,
   "metadata": {},
   "outputs": [
    {
     "name": "stdout",
     "output_type": "stream",
     "text": [
      "              price   lotsize  bedrooms   bathrms  driveway   recroom  \\\n",
      "price      1.000000  0.535796  0.366447  0.516719  0.297167  0.254960   \n",
      "lotsize    0.535796  1.000000  0.151851  0.193833  0.288778  0.140327   \n",
      "bedrooms   0.366447  0.151851  1.000000  0.373769 -0.011996  0.080492   \n",
      "bathrms    0.516719  0.193833  0.373769  1.000000  0.041955  0.126892   \n",
      "driveway   0.297167  0.288778 -0.011996  0.041955  1.000000  0.091959   \n",
      "recroom    0.254960  0.140327  0.080492  0.126892  0.091959  1.000000   \n",
      "fullbase   0.186218  0.047487  0.097201  0.102791  0.043428  0.372434   \n",
      "gashw      0.092837 -0.009201  0.046028  0.067365 -0.011942 -0.010119   \n",
      "airco      0.453347  0.221765  0.160412  0.184955  0.106290  0.136626   \n",
      "garagepl   0.383302  0.352872  0.139117  0.178178  0.203682  0.038122   \n",
      "prefarea   0.329074  0.234782  0.078953  0.064013  0.199378  0.161292   \n",
      "stories_1 -0.270058  0.054348 -0.509974 -0.250784 -0.053249 -0.022632   \n",
      "stories_2 -0.002089 -0.159612  0.377424  0.080982 -0.047074  0.006938   \n",
      "stories_3  0.138254  0.020567  0.099150  0.036027  0.073533 -0.038733   \n",
      "stories_4  0.372281  0.178354  0.145525  0.281003  0.115453  0.067567   \n",
      "\n",
      "           fullbase     gashw     airco  garagepl  prefarea  stories_1  \\\n",
      "price      0.186218  0.092837  0.453347  0.383302  0.329074  -0.270058   \n",
      "lotsize    0.047487 -0.009201  0.221765  0.352872  0.234782   0.054348   \n",
      "bedrooms   0.097201  0.046028  0.160412  0.139117  0.078953  -0.509974   \n",
      "bathrms    0.102791  0.067365  0.184955  0.178178  0.064013  -0.250784   \n",
      "driveway   0.043428 -0.011942  0.106290  0.203682  0.199378  -0.053249   \n",
      "recroom    0.372434 -0.010119  0.136626  0.038122  0.161292  -0.022632   \n",
      "fullbase   1.000000  0.004677  0.045248  0.052524  0.228651   0.059154   \n",
      "gashw      0.004677  1.000000 -0.130350  0.068144 -0.059170  -0.060336   \n",
      "airco      0.045248 -0.130350  1.000000  0.156596  0.115626  -0.143174   \n",
      "garagepl   0.052524  0.068144  0.156596  1.000000  0.092364   0.016610   \n",
      "prefarea   0.228651 -0.059170  0.115626  0.092364  1.000000  -0.010668   \n",
      "stories_1  0.059154 -0.060336 -0.143174  0.016610 -0.010668   1.000000   \n",
      "stories_2  0.098694  0.054823 -0.074706 -0.041931 -0.059240  -0.741533   \n",
      "stories_3 -0.132540  0.072922  0.110682 -0.079170  0.143067  -0.237177   \n",
      "stories_4 -0.165285 -0.062416  0.298887  0.126112 -0.010035  -0.240361   \n",
      "\n",
      "           stories_2  stories_3  stories_4  \n",
      "price      -0.002089   0.138254   0.372281  \n",
      "lotsize    -0.159612   0.020567   0.178354  \n",
      "bedrooms    0.377424   0.099150   0.145525  \n",
      "bathrms     0.080982   0.036027   0.281003  \n",
      "driveway   -0.047074   0.073533   0.115453  \n",
      "recroom     0.006938  -0.038733   0.067567  \n",
      "fullbase    0.098694  -0.132540  -0.165285  \n",
      "gashw       0.054823   0.072922  -0.062416  \n",
      "airco      -0.074706   0.110682   0.298887  \n",
      "garagepl   -0.041931  -0.079170   0.126112  \n",
      "prefarea   -0.059240   0.143067  -0.010035  \n",
      "stories_1  -0.741533  -0.237177  -0.240361  \n",
      "stories_2   1.000000  -0.247154  -0.250472  \n",
      "stories_3  -0.247154   1.000000  -0.080113  \n",
      "stories_4  -0.250472  -0.080113   1.000000  \n"
     ]
    }
   ],
   "source": [
    "print(datasets_corr)"
   ]
  },
  {
   "cell_type": "code",
   "execution_count": 125,
   "metadata": {},
   "outputs": [
    {
     "data": {
      "image/png": "[encoded data removed]",
      "text/plain": [
       "<Figure size 720x576 with 2 Axes>"
      ]
     },
     "metadata": {
      "needs_background": "light"
     },
     "output_type": "display_data"
    }
   ],
   "source": [
    "plt.figure(figsize=(10, 8))\n",
    "sns.heatmap(datasets.corr(), vmax = 1.0, square=True, annot=True, fmt = '.1f')\n",
    "plt.show()"
   ]
  },
  {
   "cell_type": "code",
   "execution_count": 126,
   "metadata": {},
   "outputs": [],
   "source": [
    "independent_variables = ['lotsize', 'bedrooms', 'bathrms', 'driveway', 'recroom',\n",
    "       'fullbase', 'gashw', 'airco', 'garagepl', 'prefarea', 'stories_1',\n",
    "       'stories_3', 'stories_2', 'stories_4']"
   ]
  },
  {
   "cell_type": "code",
   "execution_count": 127,
   "metadata": {},
   "outputs": [],
   "source": [
    "X = datasets[independent_variables]\n",
    "y = datasets['price']"
   ]
  },
  {
   "cell_type": "code",
   "execution_count": 128,
   "metadata": {},
   "outputs": [
    {
     "name": "stdout",
     "output_type": "stream",
     "text": [
      "VIF(Variance Inflation Factor ) :  [1.3704738112004569, 1.5783268259718808, 1.2987779728705593, 1.1648811574651847, 1.2148620093192928, 1.3369114662383514, 1.053078869775805, 1.2195823546735252, 1.218832929061305, 1.181239434106175, 11.781465345739338, 3.9436985684475445, 17.220894903652624, 4.544836339845972]\n",
      "Droping 'stories_2' at index : 12\n",
      "VIF(Variance Inflation Factor ) :  [9.027672411240845, 12.40877864989557, 9.374682124313615, 6.79426994395169, 1.4753724454932147, 2.055797712632684, 1.1031283327561414, 1.785054332017555, 1.9607784997238862, 1.5317205065647905, 1.8969940907498246, 1.278600527923588, 1.4546157757803122]\n",
      "Droping 'bedrooms' at index : 1\n",
      "Final variables :  ['lotsize', 'bathrms', 'driveway', 'recroom', 'fullbase', 'gashw', 'airco', 'garagepl', 'prefarea', 'stories_1', 'stories_3', 'stories_4']\n"
     ]
    }
   ],
   "source": [
    "thres = 10\n",
    "\n",
    "for i in np.arange(0, len(independent_variables)):\n",
    "    vif = [variance_inflation_factor(X[independent_variables].values, ix) for ix in range(X[independent_variables].shape[1])]\n",
    "    maxloc = vif.index(max(vif))\n",
    "    if max(vif) > thres:\n",
    "        print(\"VIF(Variance Inflation Factor ) : \", vif)\n",
    "        print('Droping \\'' + X[independent_variables].columns[maxloc] + '\\' at index : ' + str(maxloc))\n",
    "        del independent_variables[maxloc]\n",
    "    else:\n",
    "        break\n",
    "        \n",
    "print(\"Final variables : \", independent_variables)"
   ]
  },
  {
   "cell_type": "code",
   "execution_count": null,
   "metadata": {},
   "outputs": [],
   "source": []
  }
 ],
 "metadata": {
  "kernelspec": {
   "display_name": "Python 3",
   "language": "python",
   "name": "python3"
  },
  "language_info": {
   "codemirror_mode": {
    "name": "ipython",
    "version": 3
   },
   "file_extension": ".py",
   "mimetype": "text/x-python",
   "name": "python",
   "nbconvert_exporter": "python",
   "pygments_lexer": "ipython3",
   "version": "3.7.6"
  }
 },
 "nbformat": 4,
 "nbformat_minor": 4
}
