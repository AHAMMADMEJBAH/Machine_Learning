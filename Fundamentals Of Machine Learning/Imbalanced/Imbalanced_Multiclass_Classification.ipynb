{
 "cells": [
  {
   "cell_type": "code",
   "execution_count": 1,
   "metadata": {},
   "outputs": [],
   "source": [
    "import pandas as pd\n",
    "import numpy as np\n",
    "import matplotlib.pyplot as plt\n",
    "from collections import Counter\n",
    "from numpy import mean, std\n",
    "%matplotlib inline"
   ]
  },
  {
   "cell_type": "code",
   "execution_count": 2,
   "metadata": {},
   "outputs": [
    {
     "name": "stderr",
     "output_type": "stream",
     "text": [
      "Using TensorFlow backend.\n"
     ]
    }
   ],
   "source": [
    "from sklearn.preprocessing import LabelEncoder \n",
    "from sklearn.model_selection import RepeatedStratifiedKFold\n",
    "from sklearn.model_selection import cross_val_score\n",
    "from sklearn.dummy import DummyClassifier\n",
    "from sklearn.discriminant_analysis import LinearDiscriminantAnalysis\n",
    "from sklearn.svm import LinearSVC\n",
    "from sklearn.ensemble import BaggingClassifier\n",
    "from sklearn.ensemble import RandomForestClassifier\n",
    "from sklearn.ensemble import ExtraTreesClassifier\n",
    "from sklearn.neighbors import KNeighborsClassifier\n",
    "from sklearn.linear_model import LogisticRegression\n",
    "from sklearn.pipeline import Pipeline\n",
    "from imblearn.pipeline import Pipeline\n",
    "from imblearn.over_sampling import SMOTE\n",
    "from sklearn.gaussian_process import GaussianProcessClassifier"
   ]
  },
  {
   "cell_type": "code",
   "execution_count": 3,
   "metadata": {},
   "outputs": [],
   "source": [
    "datasets = pd.read_csv('ecoli.csv')"
   ]
  },
  {
   "cell_type": "code",
   "execution_count": 4,
   "metadata": {},
   "outputs": [
    {
     "data": {
      "text/plain": [
       "RangeIndex(start=0, stop=335, step=1)"
      ]
     },
     "execution_count": 4,
     "metadata": {},
     "output_type": "execute_result"
    }
   ],
   "source": [
    "datasets.index"
   ]
  },
  {
   "cell_type": "code",
   "execution_count": 5,
   "metadata": {},
   "outputs": [
    {
     "data": {
      "text/plain": [
       "Index(['0.49', '0.29', '0.48', '0.50', '0.56', '0.24', '0.35', 'cp'], dtype='object')"
      ]
     },
     "execution_count": 5,
     "metadata": {},
     "output_type": "execute_result"
    }
   ],
   "source": [
    "datasets.columns"
   ]
  },
  {
   "cell_type": "code",
   "execution_count": 6,
   "metadata": {},
   "outputs": [
    {
     "data": {
      "text/html": [
       "<div>\n",
       "<style scoped>\n",
       "    .dataframe tbody tr th:only-of-type {\n",
       "        vertical-align: middle;\n",
       "    }\n",
       "\n",
       "    .dataframe tbody tr th {\n",
       "        vertical-align: top;\n",
       "    }\n",
       "\n",
       "    .dataframe thead th {\n",
       "        text-align: right;\n",
       "    }\n",
       "</style>\n",
       "<table border=\"1\" class=\"dataframe\">\n",
       "  <thead>\n",
       "    <tr style=\"text-align: right;\">\n",
       "      <th></th>\n",
       "      <th>0.49</th>\n",
       "      <th>0.29</th>\n",
       "      <th>0.48</th>\n",
       "      <th>0.50</th>\n",
       "      <th>0.56</th>\n",
       "      <th>0.24</th>\n",
       "      <th>0.35</th>\n",
       "      <th>cp</th>\n",
       "    </tr>\n",
       "  </thead>\n",
       "  <tbody>\n",
       "    <tr>\n",
       "      <th>0</th>\n",
       "      <td>0.07</td>\n",
       "      <td>0.40</td>\n",
       "      <td>0.48</td>\n",
       "      <td>0.5</td>\n",
       "      <td>0.54</td>\n",
       "      <td>0.35</td>\n",
       "      <td>0.44</td>\n",
       "      <td>cp</td>\n",
       "    </tr>\n",
       "    <tr>\n",
       "      <th>1</th>\n",
       "      <td>0.56</td>\n",
       "      <td>0.40</td>\n",
       "      <td>0.48</td>\n",
       "      <td>0.5</td>\n",
       "      <td>0.49</td>\n",
       "      <td>0.37</td>\n",
       "      <td>0.46</td>\n",
       "      <td>cp</td>\n",
       "    </tr>\n",
       "    <tr>\n",
       "      <th>2</th>\n",
       "      <td>0.59</td>\n",
       "      <td>0.49</td>\n",
       "      <td>0.48</td>\n",
       "      <td>0.5</td>\n",
       "      <td>0.52</td>\n",
       "      <td>0.45</td>\n",
       "      <td>0.36</td>\n",
       "      <td>cp</td>\n",
       "    </tr>\n",
       "    <tr>\n",
       "      <th>3</th>\n",
       "      <td>0.23</td>\n",
       "      <td>0.32</td>\n",
       "      <td>0.48</td>\n",
       "      <td>0.5</td>\n",
       "      <td>0.55</td>\n",
       "      <td>0.25</td>\n",
       "      <td>0.35</td>\n",
       "      <td>cp</td>\n",
       "    </tr>\n",
       "    <tr>\n",
       "      <th>4</th>\n",
       "      <td>0.67</td>\n",
       "      <td>0.39</td>\n",
       "      <td>0.48</td>\n",
       "      <td>0.5</td>\n",
       "      <td>0.36</td>\n",
       "      <td>0.38</td>\n",
       "      <td>0.46</td>\n",
       "      <td>cp</td>\n",
       "    </tr>\n",
       "  </tbody>\n",
       "</table>\n",
       "</div>"
      ],
      "text/plain": [
       "   0.49  0.29  0.48  0.50  0.56  0.24  0.35  cp\n",
       "0  0.07  0.40  0.48   0.5  0.54  0.35  0.44  cp\n",
       "1  0.56  0.40  0.48   0.5  0.49  0.37  0.46  cp\n",
       "2  0.59  0.49  0.48   0.5  0.52  0.45  0.36  cp\n",
       "3  0.23  0.32  0.48   0.5  0.55  0.25  0.35  cp\n",
       "4  0.67  0.39  0.48   0.5  0.36  0.38  0.46  cp"
      ]
     },
     "execution_count": 6,
     "metadata": {},
     "output_type": "execute_result"
    }
   ],
   "source": [
    "datasets.head()"
   ]
  },
  {
   "cell_type": "code",
   "execution_count": 7,
   "metadata": {},
   "outputs": [],
   "source": [
    "datasets = pd.read_csv('ecoli.csv', header = None)"
   ]
  },
  {
   "cell_type": "code",
   "execution_count": 8,
   "metadata": {},
   "outputs": [
    {
     "data": {
      "text/plain": [
       "RangeIndex(start=0, stop=336, step=1)"
      ]
     },
     "execution_count": 8,
     "metadata": {},
     "output_type": "execute_result"
    }
   ],
   "source": [
    "datasets.index"
   ]
  },
  {
   "cell_type": "code",
   "execution_count": 9,
   "metadata": {},
   "outputs": [
    {
     "data": {
      "text/plain": [
       "Int64Index([0, 1, 2, 3, 4, 5, 6, 7], dtype='int64')"
      ]
     },
     "execution_count": 9,
     "metadata": {},
     "output_type": "execute_result"
    }
   ],
   "source": [
    "datasets.columns"
   ]
  },
  {
   "cell_type": "code",
   "execution_count": 10,
   "metadata": {},
   "outputs": [
    {
     "data": {
      "text/html": [
       "<div>\n",
       "<style scoped>\n",
       "    .dataframe tbody tr th:only-of-type {\n",
       "        vertical-align: middle;\n",
       "    }\n",
       "\n",
       "    .dataframe tbody tr th {\n",
       "        vertical-align: top;\n",
       "    }\n",
       "\n",
       "    .dataframe thead th {\n",
       "        text-align: right;\n",
       "    }\n",
       "</style>\n",
       "<table border=\"1\" class=\"dataframe\">\n",
       "  <thead>\n",
       "    <tr style=\"text-align: right;\">\n",
       "      <th></th>\n",
       "      <th>0</th>\n",
       "      <th>1</th>\n",
       "      <th>2</th>\n",
       "      <th>3</th>\n",
       "      <th>4</th>\n",
       "      <th>5</th>\n",
       "      <th>6</th>\n",
       "      <th>7</th>\n",
       "    </tr>\n",
       "  </thead>\n",
       "  <tbody>\n",
       "    <tr>\n",
       "      <th>0</th>\n",
       "      <td>0.49</td>\n",
       "      <td>0.29</td>\n",
       "      <td>0.48</td>\n",
       "      <td>0.5</td>\n",
       "      <td>0.56</td>\n",
       "      <td>0.24</td>\n",
       "      <td>0.35</td>\n",
       "      <td>cp</td>\n",
       "    </tr>\n",
       "    <tr>\n",
       "      <th>1</th>\n",
       "      <td>0.07</td>\n",
       "      <td>0.40</td>\n",
       "      <td>0.48</td>\n",
       "      <td>0.5</td>\n",
       "      <td>0.54</td>\n",
       "      <td>0.35</td>\n",
       "      <td>0.44</td>\n",
       "      <td>cp</td>\n",
       "    </tr>\n",
       "    <tr>\n",
       "      <th>2</th>\n",
       "      <td>0.56</td>\n",
       "      <td>0.40</td>\n",
       "      <td>0.48</td>\n",
       "      <td>0.5</td>\n",
       "      <td>0.49</td>\n",
       "      <td>0.37</td>\n",
       "      <td>0.46</td>\n",
       "      <td>cp</td>\n",
       "    </tr>\n",
       "    <tr>\n",
       "      <th>3</th>\n",
       "      <td>0.59</td>\n",
       "      <td>0.49</td>\n",
       "      <td>0.48</td>\n",
       "      <td>0.5</td>\n",
       "      <td>0.52</td>\n",
       "      <td>0.45</td>\n",
       "      <td>0.36</td>\n",
       "      <td>cp</td>\n",
       "    </tr>\n",
       "    <tr>\n",
       "      <th>4</th>\n",
       "      <td>0.23</td>\n",
       "      <td>0.32</td>\n",
       "      <td>0.48</td>\n",
       "      <td>0.5</td>\n",
       "      <td>0.55</td>\n",
       "      <td>0.25</td>\n",
       "      <td>0.35</td>\n",
       "      <td>cp</td>\n",
       "    </tr>\n",
       "  </tbody>\n",
       "</table>\n",
       "</div>"
      ],
      "text/plain": [
       "      0     1     2    3     4     5     6   7\n",
       "0  0.49  0.29  0.48  0.5  0.56  0.24  0.35  cp\n",
       "1  0.07  0.40  0.48  0.5  0.54  0.35  0.44  cp\n",
       "2  0.56  0.40  0.48  0.5  0.49  0.37  0.46  cp\n",
       "3  0.59  0.49  0.48  0.5  0.52  0.45  0.36  cp\n",
       "4  0.23  0.32  0.48  0.5  0.55  0.25  0.35  cp"
      ]
     },
     "execution_count": 10,
     "metadata": {},
     "output_type": "execute_result"
    }
   ],
   "source": [
    "datasets.head()"
   ]
  },
  {
   "cell_type": "code",
   "execution_count": 11,
   "metadata": {},
   "outputs": [
    {
     "name": "stdout",
     "output_type": "stream",
     "text": [
      "shape of the Datasets is : (336, 8)\n"
     ]
    }
   ],
   "source": [
    "print(\"shape of the Datasets is :\", datasets.shape)"
   ]
  },
  {
   "cell_type": "code",
   "execution_count": 12,
   "metadata": {},
   "outputs": [],
   "source": [
    "pd.set_option(\"precision\", 3)"
   ]
  },
  {
   "cell_type": "code",
   "execution_count": 13,
   "metadata": {},
   "outputs": [
    {
     "data": {
      "text/html": [
       "<div>\n",
       "<style scoped>\n",
       "    .dataframe tbody tr th:only-of-type {\n",
       "        vertical-align: middle;\n",
       "    }\n",
       "\n",
       "    .dataframe tbody tr th {\n",
       "        vertical-align: top;\n",
       "    }\n",
       "\n",
       "    .dataframe thead th {\n",
       "        text-align: right;\n",
       "    }\n",
       "</style>\n",
       "<table border=\"1\" class=\"dataframe\">\n",
       "  <thead>\n",
       "    <tr style=\"text-align: right;\">\n",
       "      <th></th>\n",
       "      <th>0</th>\n",
       "      <th>1</th>\n",
       "      <th>2</th>\n",
       "      <th>3</th>\n",
       "      <th>4</th>\n",
       "      <th>5</th>\n",
       "      <th>6</th>\n",
       "    </tr>\n",
       "  </thead>\n",
       "  <tbody>\n",
       "    <tr>\n",
       "      <th>count</th>\n",
       "      <td>336.000</td>\n",
       "      <td>336.000</td>\n",
       "      <td>336.000</td>\n",
       "      <td>336.000</td>\n",
       "      <td>336.000</td>\n",
       "      <td>336.000</td>\n",
       "      <td>336.000</td>\n",
       "    </tr>\n",
       "    <tr>\n",
       "      <th>mean</th>\n",
       "      <td>0.500</td>\n",
       "      <td>0.500</td>\n",
       "      <td>0.495</td>\n",
       "      <td>0.501</td>\n",
       "      <td>0.500</td>\n",
       "      <td>0.500</td>\n",
       "      <td>0.500</td>\n",
       "    </tr>\n",
       "    <tr>\n",
       "      <th>std</th>\n",
       "      <td>0.195</td>\n",
       "      <td>0.148</td>\n",
       "      <td>0.088</td>\n",
       "      <td>0.027</td>\n",
       "      <td>0.122</td>\n",
       "      <td>0.216</td>\n",
       "      <td>0.209</td>\n",
       "    </tr>\n",
       "    <tr>\n",
       "      <th>min</th>\n",
       "      <td>0.000</td>\n",
       "      <td>0.160</td>\n",
       "      <td>0.480</td>\n",
       "      <td>0.500</td>\n",
       "      <td>0.000</td>\n",
       "      <td>0.030</td>\n",
       "      <td>0.000</td>\n",
       "    </tr>\n",
       "    <tr>\n",
       "      <th>25%</th>\n",
       "      <td>0.340</td>\n",
       "      <td>0.400</td>\n",
       "      <td>0.480</td>\n",
       "      <td>0.500</td>\n",
       "      <td>0.420</td>\n",
       "      <td>0.330</td>\n",
       "      <td>0.350</td>\n",
       "    </tr>\n",
       "    <tr>\n",
       "      <th>50%</th>\n",
       "      <td>0.500</td>\n",
       "      <td>0.470</td>\n",
       "      <td>0.480</td>\n",
       "      <td>0.500</td>\n",
       "      <td>0.495</td>\n",
       "      <td>0.455</td>\n",
       "      <td>0.430</td>\n",
       "    </tr>\n",
       "    <tr>\n",
       "      <th>75%</th>\n",
       "      <td>0.662</td>\n",
       "      <td>0.570</td>\n",
       "      <td>0.480</td>\n",
       "      <td>0.500</td>\n",
       "      <td>0.570</td>\n",
       "      <td>0.710</td>\n",
       "      <td>0.710</td>\n",
       "    </tr>\n",
       "    <tr>\n",
       "      <th>max</th>\n",
       "      <td>0.890</td>\n",
       "      <td>1.000</td>\n",
       "      <td>1.000</td>\n",
       "      <td>1.000</td>\n",
       "      <td>0.880</td>\n",
       "      <td>1.000</td>\n",
       "      <td>0.990</td>\n",
       "    </tr>\n",
       "  </tbody>\n",
       "</table>\n",
       "</div>"
      ],
      "text/plain": [
       "             0        1        2        3        4        5        6\n",
       "count  336.000  336.000  336.000  336.000  336.000  336.000  336.000\n",
       "mean     0.500    0.500    0.495    0.501    0.500    0.500    0.500\n",
       "std      0.195    0.148    0.088    0.027    0.122    0.216    0.209\n",
       "min      0.000    0.160    0.480    0.500    0.000    0.030    0.000\n",
       "25%      0.340    0.400    0.480    0.500    0.420    0.330    0.350\n",
       "50%      0.500    0.470    0.480    0.500    0.495    0.455    0.430\n",
       "75%      0.662    0.570    0.480    0.500    0.570    0.710    0.710\n",
       "max      0.890    1.000    1.000    1.000    0.880    1.000    0.990"
      ]
     },
     "execution_count": 13,
     "metadata": {},
     "output_type": "execute_result"
    }
   ],
   "source": [
    "datasets.describe()"
   ]
  },
  {
   "cell_type": "code",
   "execution_count": 14,
   "metadata": {},
   "outputs": [],
   "source": [
    "target_values = datasets.values[:,-1]\n",
    "counter = Counter(target_values)"
   ]
  },
  {
   "cell_type": "code",
   "execution_count": 15,
   "metadata": {},
   "outputs": [
    {
     "name": "stdout",
     "output_type": "stream",
     "text": [
      "Class =cp, Count=143, Precentage=42.560%\n",
      "Class =im, Count=77, Precentage=22.917%\n",
      "Class =imS, Count=2, Precentage=0.595%\n",
      "Class =imL, Count=2, Precentage=0.595%\n",
      "Class =imU, Count=35, Precentage=10.417%\n",
      "Class =om, Count=20, Precentage=5.952%\n",
      "Class =omL, Count=5, Precentage=1.488%\n",
      "Class =pp, Count=52, Precentage=15.476%\n",
      "\n",
      "\n",
      "Class list:  ['cp', 'im', 'imS', 'imL', 'imU', 'om', 'omL', 'pp']\n",
      "List of the Count values = : [143, 77, 2, 2, 35, 20, 5, 52]\n",
      "List of the Percentage values = : ['42.560%', '22.917%', '0.595%', '0.595%', '10.417%', '5.952%', '1.488%', '15.476%']\n",
      "Summation of the total values : 336\n"
     ]
    }
   ],
   "source": [
    "list_cunt = []\n",
    "class_list = []\n",
    "percentage_list = []\n",
    "\n",
    "for key, values in counter.items():\n",
    "    per = values/len(target_values) * 100\n",
    "    print(\"Class =%s, Count=%d, Precentage=%.3f%%\"%(key, values, per))\n",
    "    list_cunt.append(values)\n",
    "    class_list.append(key)\n",
    "    percentage_list.append(\"%.3f%%\"%(per))\n",
    "print(\"\\n\\nClass list: \", class_list)   \n",
    "print(\"List of the Count values = :\",list_cunt)\n",
    "print(\"List of the Percentage values = :\",percentage_list)\n",
    "print(\"Summation of the total values :\",np.sum(list_cunt))"
   ]
  },
  {
   "cell_type": "code",
   "execution_count": 16,
   "metadata": {},
   "outputs": [
    {
     "data": {
      "text/plain": [
       "<Figure size 1440x1296 with 0 Axes>"
      ]
     },
     "metadata": {},
     "output_type": "display_data"
    },
    {
     "data": {
      "image/png": "[encoded data removed]",
      "text/plain": [
       "<Figure size 432x288 with 9 Axes>"
      ]
     },
     "metadata": {
      "needs_background": "light"
     },
     "output_type": "display_data"
    }
   ],
   "source": [
    "plt.figure(figsize=(20, 18))\n",
    "datasets.hist(bins = 25)\n",
    "plt.show()"
   ]
  },
  {
   "cell_type": "code",
   "execution_count": 17,
   "metadata": {},
   "outputs": [
    {
     "name": "stdout",
     "output_type": "stream",
     "text": [
      "(336, 7) (336,) Counter({0: 143, 1: 77, 7: 52, 4: 35, 5: 20, 6: 5, 3: 2, 2: 2})\n"
     ]
    }
   ],
   "source": [
    "def load_datasets(full_path):\n",
    "    datasets = pd.read_csv(full_path, header = None)\n",
    "    datasets = datasets.values\n",
    "    X, y = datasets[:, :-1], datasets[:, -1]\n",
    "    y = LabelEncoder().fit_transform(y)\n",
    "    return X, y\n",
    "\n",
    "def evaluate_model(X, y, model):\n",
    "    cv = RepeatedStratifiedKFold(n_splits = 2, n_repeats = 3, random_state =1)\n",
    "    scores = cross_val_score(model, X, y, scoring = 'accuracy', cv = cv, n_jobs = -1)\n",
    "    return scores\n",
    "\n",
    "\n",
    "full_path = 'ecoli.csv'\n",
    "X, y = load_datasets(full_path)\n",
    "print(X.shape, y.shape, Counter(y))"
   ]
  },
  {
   "cell_type": "code",
   "execution_count": 18,
   "metadata": {},
   "outputs": [],
   "source": [
    "model = DummyClassifier(strategy='most_frequent')"
   ]
  },
  {
   "cell_type": "code",
   "execution_count": 19,
   "metadata": {},
   "outputs": [
    {
     "name": "stdout",
     "output_type": "stream",
     "text": [
      "Mean Accuracy: 0.426 (0.003)\n"
     ]
    }
   ],
   "source": [
    "scores = evaluate_model(X, y, model)\n",
    "print('Mean Accuracy: %.3f (%.3f)'%(mean(scores), std(scores)))"
   ]
  },
  {
   "cell_type": "code",
   "execution_count": 20,
   "metadata": {},
   "outputs": [
    {
     "name": "stdout",
     "output_type": "stream",
     "text": [
      ">LDA 0.883 (0.034)\n",
      ">SVM 0.883 (0.034)\n",
      ">BAG 0.855 (0.038)\n",
      ">RF 0.888 (0.028)\n",
      ">ET 0.880 (0.032)\n"
     ]
    },
    {
     "data": {
      "image/png": "[encoded data removed]",
      "text/plain": [
       "<Figure size 432x288 with 1 Axes>"
      ]
     },
     "metadata": {
      "needs_background": "light"
     },
     "output_type": "display_data"
    }
   ],
   "source": [
    "def load_datasetss(full_path):\n",
    "    datasets = pd.read_csv(full_path, header = None)\n",
    "    #datasets = datasets.values\n",
    "    datasets = datasets[datasets[7] != 'imS']\n",
    "    datasets = datasets[datasets[7] != 'imL']\n",
    "    data = datasets.values\n",
    "    X, y = data[:, :-1], data[:,-1]\n",
    "    y = LabelEncoder().fit_transform(y)\n",
    "    return X, y\n",
    "\n",
    "def evalulate(X, y, model):\n",
    "    cv = RepeatedStratifiedKFold(n_splits= 5, n_repeats = 6, random_state = 1)\n",
    "    scores = cross_val_score(model, X, y, scoring='accuracy', cv = cv, n_jobs=-1)\n",
    "    return scores\n",
    "\n",
    "# full_path = 'ecoli.csv'\n",
    "# X, y = load_datasetss(full_path)\n",
    "# print(X.shape, y.shape, Counter(y))\n",
    "\n",
    "# scoress = evalulate(X, y, model)\n",
    "# print('Mean Accuracy: %.3f (%.3f)'%(mean(scoress), std(scoress)))\n",
    "\n",
    "def get_models():\n",
    "    models,names = list(),list()\n",
    "    models.append(LinearDiscriminantAnalysis())\n",
    "    names.append('LDA')\n",
    "    models.append(LinearSVC())\n",
    "    names.append('SVM')\n",
    "    models.append(BaggingClassifier(n_estimators=1000))\n",
    "    names.append(\"BAG\")\n",
    "    models.append(RandomForestClassifier(n_estimators=1000))\n",
    "    names.append('RF')\n",
    "    models.append(ExtraTreesClassifier(n_estimators=1000))\n",
    "    names.append(\"ET\")\n",
    "    return models, names\n",
    "\n",
    "full_path = 'ecoli.csv'\n",
    "X, y = load_datasetss(full_path)\n",
    "models, names = get_models()\n",
    "results = list()\n",
    "\n",
    "\n",
    "for i in range(len(models)):\n",
    "    scores = evalulate(X, y, models[i])\n",
    "    results.append(scores)\n",
    "    print('>%s %.3f (%.3f)'%(names[i], mean(scores), std(scores)))\n",
    "    \n",
    "plt.boxplot(results, labels=names, showmeans=True)\n",
    "plt.show()"
   ]
  },
  {
   "cell_type": "code",
   "execution_count": 21,
   "metadata": {},
   "outputs": [
    {
     "name": "stderr",
     "output_type": "stream",
     "text": [
      "/Users/mejbah/opt/anaconda3/envs/MachineLearning/lib/python3.7/site-packages/joblib/externals/loky/process_executor.py:706: UserWarning: A worker stopped while some jobs were given to the executor. This can be caused by a too short worker timeout or by a memory leak.\n",
      "  \"timeout or by a memory leak.\", UserWarning\n"
     ]
    },
    {
     "name": "stdout",
     "output_type": "stream",
     "text": [
      ">LR 0.873 (0.035)\n",
      ">LDA 0.882 (0.033)\n",
      ">BAG 0.880 (0.035)\n",
      ">KNN 0.835 (0.037)\n",
      ">GPC 0.873 (0.038)\n"
     ]
    },
    {
     "data": {
      "image/png": "[encoded data removed]",
      "text/plain": [
       "<Figure size 432x288 with 1 Axes>"
      ]
     },
     "metadata": {
      "needs_background": "light"
     },
     "output_type": "display_data"
    }
   ],
   "source": [
    "def load_datasetss(full_path):\n",
    "    datasets = pd.read_csv(full_path, header = None)\n",
    "    #datasets = datasets.values\n",
    "    datasets = datasets[datasets[7] != 'imS']\n",
    "    datasets = datasets[datasets[7] != 'imL']\n",
    "    data = datasets.values\n",
    "    X, y = data[:, :-1], data[:,-1]\n",
    "    y = LabelEncoder().fit_transform(y)\n",
    "    return X, y\n",
    "\n",
    "def evalulate(X, y, model):\n",
    "    cv = RepeatedStratifiedKFold(n_splits= 5, n_repeats = 6, random_state = 1)\n",
    "    scores = cross_val_score(model, X, y, scoring='accuracy', cv = cv, n_jobs=-1)\n",
    "    return scores\n",
    "\n",
    "# full_path = 'ecoli.csv'\n",
    "# X, y = load_datasetss(full_path)\n",
    "# print(X.shape, y.shape, Counter(y))\n",
    "\n",
    "# scoress = evalulate(X, y, model)\n",
    "# print('Mean Accuracy: %.3f (%.3f)'%(mean(scoress), std(scoress)))\n",
    "\n",
    "def get_models():\n",
    "    models,names = list(),list()\n",
    "    models.append(LogisticRegression())\n",
    "    names.append('LR')\n",
    "    models.append(LinearDiscriminantAnalysis())\n",
    "    names.append('LDA')\n",
    "    models.append(LinearSVC())\n",
    "    names.append(\"BAG\")\n",
    "    models.append(KNeighborsClassifier(n_neighbors=3))\n",
    "    names.append('KNN')\n",
    "    models.append(GaussianProcessClassifier())\n",
    "    names.append(\"GPC\")\n",
    "    return models, names\n",
    "\n",
    "full_path = 'ecoli.csv'\n",
    "X, y = load_datasetss(full_path)\n",
    "models, names = get_models()\n",
    "results = list()\n",
    "\n",
    "\n",
    "for i in range(len(models)):\n",
    "    steps = [('o', SMOTE(k_neighbors=2)), ('m',models[i])]\n",
    "    pipline = Pipeline(steps=steps)\n",
    "    scores = evalulate(X, y, pipline)\n",
    "    results.append(scores)\n",
    "    print('>%s %.3f (%.3f)'%(names[i], mean(scores), std(scores)))\n",
    "    \n",
    "plt.boxplot(results, labels=names, showmeans=True)\n",
    "plt.show()"
   ]
  },
  {
   "cell_type": "code",
   "execution_count": 22,
   "metadata": {},
   "outputs": [],
   "source": [
    "def load_datasetss(full_path):\n",
    "    datasets = pd.read_csv(full_path, header = None)\n",
    "    #datasets = datasets.values\n",
    "    datasets = datasets[datasets[7] != 'imS']\n",
    "    datasets = datasets[datasets[7] != 'imL']\n",
    "    data = datasets.values\n",
    "    X, y = data[:, :-1], data[:,-1]\n",
    "    le = LabelEncoder()\n",
    "    y = le.fit_transform(y)\n",
    "    y = LabelEncoder().fit_transform(y)\n",
    "    return X, y,  le"
   ]
  },
  {
   "cell_type": "code",
   "execution_count": 23,
   "metadata": {},
   "outputs": [
    {
     "data": {
      "text/plain": [
       "RandomForestClassifier(bootstrap=True, ccp_alpha=0.0, class_weight=None,\n",
       "                       criterion='gini', max_depth=None, max_features='auto',\n",
       "                       max_leaf_nodes=None, max_samples=None,\n",
       "                       min_impurity_decrease=0.0, min_impurity_split=None,\n",
       "                       min_samples_leaf=1, min_samples_split=2,\n",
       "                       min_weight_fraction_leaf=0.0, n_estimators=1000,\n",
       "                       n_jobs=None, oob_score=False, random_state=None,\n",
       "                       verbose=0, warm_start=False)"
      ]
     },
     "execution_count": 23,
     "metadata": {},
     "output_type": "execute_result"
    }
   ],
   "source": [
    "full_path = 'ecoli.csv'\n",
    "x, y, le = load_datasetss(full_path)\n",
    "model = RandomForestClassifier(n_estimators=1000)\n",
    "model.fit(x, y)"
   ]
  },
  {
   "cell_type": "code",
   "execution_count": 56,
   "metadata": {},
   "outputs": [
    {
     "name": "stdout",
     "output_type": "stream",
     "text": [
      "The Random Generated Number is : [0.73, 0.0, 0.03, 0.7, 0.13, 0.16, 0.56]\n",
      "The label is : ['cp', 'im', 'imS', 'imL', 'imU', 'om', 'omL', 'pp']\n",
      "The maximum value from the generated values at index : 0 , And the values is :  0.73\n",
      "We predicted  = cp  , And we expect ' cp ' label\n",
      "The Accuracy is : 100%\n"
     ]
    }
   ],
   "source": [
    "#row = [0.49, 0.29, 0.48, 0.50,0.56, 0.20, 0.35]\n",
    "a = list(np.random.rand(7))\n",
    "b = list()\n",
    "for i in a:\n",
    "    b.append(float(\"%.2f\"%i))\n",
    "yhat = model.predict([b])\n",
    "label = le.inverse_transform(yhat)[0]\n",
    "print(\"The Random Generated Number is :\",b)\n",
    "print('The label is :', class_list)\n",
    "print('The maximum value from the generated values at index :',b.index(max(b)), ', And the values is : ',max(b))\n",
    "print('We predicted  = %s '%(label),', And we expect',\"\\'\",class_list[b.index(max(b))],\"\\'\",'label')\n",
    "if label == class_list[b.index(max(b))]:\n",
    "    print('The Accuracy is : 100%')\n",
    "else:\n",
    "    print('This model has low Accuracy')"
   ]
  },
  {
   "cell_type": "code",
   "execution_count": 58,
   "metadata": {},
   "outputs": [
    {
     "name": "stdout",
     "output_type": "stream",
     "text": [
      "The Random Generated Number is : [0.02, 0.76, 0.27, 0.64, 0.1, 0.3, 0.33]\n",
      "The label is : ['cp', 'im', 'imS', 'imL', 'imU', 'om', 'omL', 'pp']\n",
      "The maximum value from the generated values at index : 1 , And the values is :  0.76\n",
      "We predicted  = cp  , And we expect ' im ' label\n",
      "This model has low Accuracy\n"
     ]
    }
   ],
   "source": [
    "#row = [0.49, 0.29, 0.48, 0.50,0.56, 0.20, 0.35]\n",
    "a = list(np.random.rand(7))\n",
    "b = list()\n",
    "for i in a:\n",
    "    b.append(float(\"%.2f\"%i))\n",
    "yhat = model.predict([b])\n",
    "label = le.inverse_transform(yhat)[0]\n",
    "print(\"The Random Generated Number is :\",b)\n",
    "print('The label is :', class_list)\n",
    "print('The maximum value from the generated values at index :',b.index(max(b)), ', And the values is : ',max(b))\n",
    "print('We predicted  = %s '%(label),', And we expect',\"\\'\",class_list[b.index(max(b))],\"\\'\",'label')\n",
    "if label == class_list[b.index(max(b))]:\n",
    "    print('The Accuracy is : 100%')\n",
    "else:\n",
    "    print('This model has low Accuracy')"
   ]
  },
  {
   "cell_type": "code",
   "execution_count": 59,
   "metadata": {},
   "outputs": [
    {
     "name": "stdout",
     "output_type": "stream",
     "text": [
      "The Random Generated Number is : [0.0, 0.43, 0.45, 0.41, 0.7, 0.43, 0.84]\n",
      "The label is : ['cp', 'im', 'imS', 'imL', 'imU', 'om', 'omL', 'pp']\n",
      "The maximum value from the generated values at index : 6 , And the values is :  0.84\n",
      "We predicted  = im  , And we expect ' omL ' label\n",
      "This model has low Accuracy\n"
     ]
    }
   ],
   "source": [
    "#row = [0.49, 0.29, 0.48, 0.50,0.56, 0.20, 0.35]\n",
    "a = list(np.random.rand(7))\n",
    "b = list()\n",
    "for i in a:\n",
    "    b.append(float(\"%.2f\"%i))\n",
    "yhat = model.predict([b])\n",
    "label = le.inverse_transform(yhat)[0]\n",
    "print(\"The Random Generated Number is :\",b)\n",
    "print('The label is :', class_list)\n",
    "print('The maximum value from the generated values at index :',b.index(max(b)), ', And the values is : ',max(b))\n",
    "print('We predicted  = %s '%(label),', And we expect',\"\\'\",class_list[b.index(max(b))],\"\\'\",'label')\n",
    "if label == class_list[b.index(max(b))]:\n",
    "    print('The Accuracy is : 100%')\n",
    "else:\n",
    "    print('This model has low Accuracy')"
   ]
  },
  {
   "cell_type": "code",
   "execution_count": 60,
   "metadata": {},
   "outputs": [
    {
     "name": "stdout",
     "output_type": "stream",
     "text": [
      "The Random Generated Number is : [0.47, 0.86, 0.23, 0.29, 0.88, 0.4, 0.73]\n",
      "The label is : ['cp', 'im', 'imS', 'imL', 'imU', 'om', 'omL', 'pp']\n",
      "The maximum value from the generated values at index : 4 , And the values is :  0.88\n",
      "We predicted  = im  , And we expect ' imU ' label\n",
      "This model has low Accuracy\n"
     ]
    }
   ],
   "source": [
    "#row = [0.49, 0.29, 0.48, 0.50,0.56, 0.20, 0.35]\n",
    "a = list(np.random.rand(7))\n",
    "b = list()\n",
    "for i in a:\n",
    "    b.append(float(\"%.2f\"%i))\n",
    "yhat = model.predict([b])\n",
    "label = le.inverse_transform(yhat)[0]\n",
    "print(\"The Random Generated Number is :\",b)\n",
    "print('The label is :', class_list)\n",
    "print('The maximum value from the generated values at index :',b.index(max(b)), ', And the values is : ',max(b))\n",
    "print('We predicted  = %s '%(label),', And we expect',\"\\'\",class_list[b.index(max(b))],\"\\'\",'label')\n",
    "if label == class_list[b.index(max(b))]:\n",
    "    print('The Accuracy is : 100%')\n",
    "else:\n",
    "    print('This model has low Accuracy')"
   ]
  },
  {
   "cell_type": "code",
   "execution_count": 61,
   "metadata": {},
   "outputs": [
    {
     "name": "stdout",
     "output_type": "stream",
     "text": [
      "The Random Generated Number is : [0.83, 0.33, 0.24, 0.77, 0.75, 0.3, 0.73]\n",
      "The label is : ['cp', 'im', 'imS', 'imL', 'imU', 'om', 'omL', 'pp']\n",
      "The maximum value from the generated values at index : 0 , And the values is :  0.83\n",
      "We predicted  = imU  , And we expect ' cp ' label\n",
      "This model has low Accuracy\n"
     ]
    }
   ],
   "source": [
    "#row = [0.49, 0.29, 0.48, 0.50,0.56, 0.20, 0.35]\n",
    "a = list(np.random.rand(7))\n",
    "b = list()\n",
    "for i in a:\n",
    "    b.append(float(\"%.2f\"%i))\n",
    "yhat = model.predict([b])\n",
    "label = le.inverse_transform(yhat)[0]\n",
    "print(\"The Random Generated Number is :\",b)\n",
    "print('The label is :', class_list)\n",
    "print('The maximum value from the generated values at index :',b.index(max(b)), ', And the values is : ',max(b))\n",
    "print('We predicted  = %s '%(label),', And we expect',\"\\'\",class_list[b.index(max(b))],\"\\'\",'label')\n",
    "if label == class_list[b.index(max(b))]:\n",
    "    print('The Accuracy is : 100%')\n",
    "else:\n",
    "    print('This model has low Accuracy')"
   ]
  },
  {
   "cell_type": "code",
   "execution_count": 62,
   "metadata": {},
   "outputs": [
    {
     "name": "stdout",
     "output_type": "stream",
     "text": [
      "The Random Generated Number is : [0.83, 0.62, 0.76, 0.28, 0.69, 0.93, 0.4]\n",
      "The label is : ['cp', 'im', 'imS', 'imL', 'imU', 'om', 'omL', 'pp']\n",
      "The maximum value from the generated values at index : 5 , And the values is :  0.93\n",
      "We predicted  = om  , And we expect ' om ' label\n",
      "The Accuracy is : 100%\n"
     ]
    }
   ],
   "source": [
    "#row = [0.49, 0.29, 0.48, 0.50,0.56, 0.20, 0.35]\n",
    "a = list(np.random.rand(7))\n",
    "b = list()\n",
    "for i in a:\n",
    "    b.append(float(\"%.2f\"%i))\n",
    "yhat = model.predict([b])\n",
    "label = le.inverse_transform(yhat)[0]\n",
    "print(\"The Random Generated Number is :\",b)\n",
    "print('The label is :', class_list)\n",
    "print('The maximum value from the generated values at index :',b.index(max(b)), ', And the values is : ',max(b))\n",
    "print('We predicted  = %s '%(label),', And we expect',\"\\'\",class_list[b.index(max(b))],\"\\'\",'label')\n",
    "if label == class_list[b.index(max(b))]:\n",
    "    print('The Accuracy is : 100%')\n",
    "else:\n",
    "    print('This model has low Accuracy')"
   ]
  },
  {
   "cell_type": "code",
   "execution_count": null,
   "metadata": {},
   "outputs": [],
   "source": []
  }
 ],
 "metadata": {
  "kernelspec": {
   "display_name": "Python 3",
   "language": "python",
   "name": "python3"
  },
  "language_info": {
   "codemirror_mode": {
    "name": "ipython",
    "version": 3
   },
   "file_extension": ".py",
   "mimetype": "text/x-python",
   "name": "python",
   "nbconvert_exporter": "python",
   "pygments_lexer": "ipython3",
   "version": "3.7.6"
  }
 },
 "nbformat": 4,
 "nbformat_minor": 4
}
